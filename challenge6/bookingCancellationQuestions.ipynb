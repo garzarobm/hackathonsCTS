{
 "cells": [
  {
   "cell_type": "markdown",
   "metadata": {
    "colab_type": "text",
    "id": "8MiMTc5_NNPj"
   },
   "source": [
    "# Data Science Challenge"
   ]
  },
  {
   "cell_type": "code",
   "execution_count": 143,
   "metadata": {
    "colab": {},
    "colab_type": "code",
    "id": "QP1q2srGNNPo"
   },
   "outputs": [],
   "source": [
    "# If additional packages are needed but are not installed by default, uncomment the last two lines of this cell\n",
    "# and replace <package list> with a list of additional packages.\n",
    "# This will ensure the notebook has all the dependencies and works everywhere\n",
    "\n",
    "#import sys\n",
    "#!{sys.executable} -m pip install <package list>"
   ]
  },
  {
   "cell_type": "code",
   "execution_count": 144,
   "metadata": {
    "colab": {},
    "colab_type": "code",
    "id": "QP1q2srGNNPo"
   },
   "outputs": [
    {
     "name": "stdout",
     "output_type": "stream",
     "text": [
      "Requirement already satisfied: tensorflow in /opt/conda/lib/python3.7/site-packages (2.4.1)\n",
      "Requirement already satisfied: google-pasta~=0.2 in /opt/conda/lib/python3.7/site-packages (from tensorflow) (0.2.0)\n",
      "Requirement already satisfied: protobuf>=3.9.2 in /opt/conda/lib/python3.7/site-packages (from tensorflow) (3.9.2)\n",
      "Requirement already satisfied: six~=1.15.0 in /opt/conda/lib/python3.7/site-packages (from tensorflow) (1.15.0)\n",
      "Requirement already satisfied: tensorboard~=2.4 in /opt/conda/lib/python3.7/site-packages (from tensorflow) (2.4.1)\n",
      "Requirement already satisfied: typing-extensions~=3.7.4 in /opt/conda/lib/python3.7/site-packages (from tensorflow) (3.7.4.3)\n",
      "Requirement already satisfied: opt-einsum~=3.3.0 in /opt/conda/lib/python3.7/site-packages (from tensorflow) (3.3.0)\n",
      "Requirement already satisfied: numpy~=1.19.2 in /opt/conda/lib/python3.7/site-packages (from tensorflow) (1.19.2)\n",
      "Requirement already satisfied: tensorflow-estimator<2.5.0,>=2.4.0 in /opt/conda/lib/python3.7/site-packages (from tensorflow) (2.4.0)\n",
      "Requirement already satisfied: grpcio~=1.32.0 in /opt/conda/lib/python3.7/site-packages (from tensorflow) (1.32.0)\n",
      "Requirement already satisfied: wheel~=0.35 in /opt/conda/lib/python3.7/site-packages (from tensorflow) (0.35.1)\n",
      "Requirement already satisfied: absl-py~=0.10 in /opt/conda/lib/python3.7/site-packages (from tensorflow) (0.12.0)\n",
      "Requirement already satisfied: termcolor~=1.1.0 in /opt/conda/lib/python3.7/site-packages (from tensorflow) (1.1.0)\n",
      "Requirement already satisfied: gast==0.3.3 in /opt/conda/lib/python3.7/site-packages (from tensorflow) (0.3.3)\n",
      "Requirement already satisfied: h5py~=2.10.0 in /opt/conda/lib/python3.7/site-packages (from tensorflow) (2.10.0)\n",
      "Requirement already satisfied: flatbuffers~=1.12.0 in /opt/conda/lib/python3.7/site-packages (from tensorflow) (1.12)\n",
      "Requirement already satisfied: astunparse~=1.6.3 in /opt/conda/lib/python3.7/site-packages (from tensorflow) (1.6.3)\n",
      "Requirement already satisfied: wrapt~=1.12.1 in /opt/conda/lib/python3.7/site-packages (from tensorflow) (1.12.1)\n",
      "Requirement already satisfied: keras-preprocessing~=1.1.2 in /opt/conda/lib/python3.7/site-packages (from tensorflow) (1.1.2)\n",
      "Requirement already satisfied: setuptools in /opt/conda/lib/python3.7/site-packages (from protobuf>=3.9.2->tensorflow) (49.6.0.post20201009)\n",
      "Requirement already satisfied: tensorboard-plugin-wit>=1.6.0 in /opt/conda/lib/python3.7/site-packages (from tensorboard~=2.4->tensorflow) (1.8.0)\n",
      "Requirement already satisfied: requests<3,>=2.21.0 in /opt/conda/lib/python3.7/site-packages (from tensorboard~=2.4->tensorflow) (2.24.0)\n",
      "Requirement already satisfied: google-auth<2,>=1.6.3 in /opt/conda/lib/python3.7/site-packages (from tensorboard~=2.4->tensorflow) (1.28.1)\n",
      "Requirement already satisfied: werkzeug>=0.11.15 in /opt/conda/lib/python3.7/site-packages (from tensorboard~=2.4->tensorflow) (1.0.1)\n",
      "Requirement already satisfied: markdown>=2.6.8 in /opt/conda/lib/python3.7/site-packages (from tensorboard~=2.4->tensorflow) (3.3.4)\n",
      "Requirement already satisfied: google-auth-oauthlib<0.5,>=0.4.1 in /opt/conda/lib/python3.7/site-packages (from tensorboard~=2.4->tensorflow) (0.4.4)\n",
      "Requirement already satisfied: urllib3!=1.25.0,!=1.25.1,<1.26,>=1.21.1 in /opt/conda/lib/python3.7/site-packages (from requests<3,>=2.21.0->tensorboard~=2.4->tensorflow) (1.25.11)\n",
      "Requirement already satisfied: chardet<4,>=3.0.2 in /opt/conda/lib/python3.7/site-packages (from requests<3,>=2.21.0->tensorboard~=2.4->tensorflow) (3.0.4)\n",
      "Requirement already satisfied: certifi>=2017.4.17 in /opt/conda/lib/python3.7/site-packages (from requests<3,>=2.21.0->tensorboard~=2.4->tensorflow) (2020.6.20)\n",
      "Requirement already satisfied: idna<3,>=2.5 in /opt/conda/lib/python3.7/site-packages (from requests<3,>=2.21.0->tensorboard~=2.4->tensorflow) (2.10)\n",
      "Requirement already satisfied: cachetools<5.0,>=2.0.0 in /opt/conda/lib/python3.7/site-packages (from google-auth<2,>=1.6.3->tensorboard~=2.4->tensorflow) (4.2.1)\n",
      "Requirement already satisfied: pyasn1-modules>=0.2.1 in /opt/conda/lib/python3.7/site-packages (from google-auth<2,>=1.6.3->tensorboard~=2.4->tensorflow) (0.2.8)\n",
      "Requirement already satisfied: rsa<5,>=3.1.4; python_version >= \"3.6\" in /home/jovyan/.local/lib/python3.7/site-packages (from google-auth<2,>=1.6.3->tensorboard~=2.4->tensorflow) (3.4.2)\n",
      "Requirement already satisfied: importlib-metadata; python_version < \"3.8\" in /opt/conda/lib/python3.7/site-packages (from markdown>=2.6.8->tensorboard~=2.4->tensorflow) (2.0.0)\n",
      "Requirement already satisfied: requests-oauthlib>=0.7.0 in /opt/conda/lib/python3.7/site-packages (from google-auth-oauthlib<0.5,>=0.4.1->tensorboard~=2.4->tensorflow) (1.3.0)\n",
      "Requirement already satisfied: pyasn1<0.5.0,>=0.4.6 in /home/jovyan/.local/lib/python3.7/site-packages (from pyasn1-modules>=0.2.1->google-auth<2,>=1.6.3->tensorboard~=2.4->tensorflow) (0.4.8)\n",
      "Requirement already satisfied: zipp>=0.5 in /opt/conda/lib/python3.7/site-packages (from importlib-metadata; python_version < \"3.8\"->markdown>=2.6.8->tensorboard~=2.4->tensorflow) (3.4.0)\n",
      "Requirement already satisfied: oauthlib>=3.0.0 in /opt/conda/lib/python3.7/site-packages (from requests-oauthlib>=0.7.0->google-auth-oauthlib<0.5,>=0.4.1->tensorboard~=2.4->tensorflow) (3.0.1)\n"
     ]
    }
   ],
   "source": [
    "# for tensorflow\n",
    "\n",
    "import sys\n",
    "!{sys.executable} -m pip install tensorflow"
   ]
  },
  {
   "cell_type": "code",
   "execution_count": 145,
   "metadata": {
    "colab": {},
    "colab_type": "code",
    "id": "QP1q2srGNNPo"
   },
   "outputs": [
    {
     "name": "stdout",
     "output_type": "stream",
     "text": [
      "Requirement already satisfied: xgboost in /opt/conda/lib/python3.7/site-packages (1.4.0)\n",
      "Requirement already satisfied: sklearn in /opt/conda/lib/python3.7/site-packages (0.0)\n",
      "Requirement already satisfied: numpy in /opt/conda/lib/python3.7/site-packages (from xgboost) (1.19.2)\n",
      "Requirement already satisfied: scipy in /opt/conda/lib/python3.7/site-packages (from xgboost) (1.3.3)\n",
      "Requirement already satisfied: scikit-learn in /opt/conda/lib/python3.7/site-packages (from sklearn) (0.21.3)\n",
      "Requirement already satisfied: joblib>=0.11 in /opt/conda/lib/python3.7/site-packages (from scikit-learn->sklearn) (0.17.0)\n"
     ]
    }
   ],
   "source": [
    "# for xgboost sklearn\n",
    "\n",
    "import sys\n",
    "!{sys.executable} -m pip install xgboost sklearn"
   ]
  },
  {
   "cell_type": "code",
   "execution_count": 146,
   "metadata": {
    "colab": {},
    "colab_type": "code",
    "id": "ZnKy7tPyNNPs"
   },
   "outputs": [],
   "source": [
    "# Libraries\n",
    "import pandas as pd\n",
    "pd.set_option(\"display.max_columns\", 101)"
   ]
  },
  {
   "cell_type": "markdown",
   "metadata": {
    "colab_type": "text",
    "id": "3DZrs3tbNNPv"
   },
   "source": [
    "## Data Description"
   ]
  },
  {
   "cell_type": "markdown",
   "metadata": {
    "colab_type": "text",
    "id": "ErDxdcsoNNPx"
   },
   "source": [
    "Column | Description\n",
    ":---|:---\n",
    "`id` | Unique identifier for each booking.\n",
    "`lead_time` | Time between booking date and reservation date (in days)\n",
    "`arrival_week` | Week number of the arrival date.\n",
    "`duration` | Booking duration (in Days)\n",
    "`prev_cancel` | Number of previous bookings that were cancelled by the customer prior to the current booking.\n",
    "`booking_changes` | Number of changes/amendments made to the booking from the moment the booking was entered on the PMS until the moment of check-in or cancellation. \n",
    "`waiting_period` | Waiting period for booking confirmation (in Days)\t\n",
    "`per_Day_price` | Per night booking price (in US $).\n",
    "`parking` | Number of car parking spaces required by the customer.\n",
    "`special_request` | Number of special requests made by the customer.\n",
    "`segment` | Market segment designation. In categories, “TA” means “Travel Agents” and “TO” means “Tour Operators”.\n",
    "`deposit` | Whether the customer made a deposit to guarantee the booking.\n",
    "`cust_type` | Type of booking, assuming one of four categories.\n",
    "`is_cancelled` |Value indicating if the booking was cancelled (1) or not (0)."
   ]
  },
  {
   "cell_type": "markdown",
   "metadata": {
    "colab_type": "text",
    "id": "knONIoqcNNPy"
   },
   "source": [
    "## Data Wrangling & Visualization"
   ]
  },
  {
   "cell_type": "code",
   "execution_count": 147,
   "metadata": {
    "colab": {},
    "colab_type": "code",
    "id": "SRLzBBNNNNPz"
   },
   "outputs": [],
   "source": [
    "# The dataset is already loaded below\n",
    "data = pd.read_csv(\"train.csv\")"
   ]
  },
  {
   "cell_type": "code",
   "execution_count": 148,
   "metadata": {
    "colab": {},
    "colab_type": "code",
    "id": "61JhPEGiNNP4",
    "outputId": "48dac540-e9ac-49a2-cfcd-575b92b3ffc9"
   },
   "outputs": [
    {
     "data": {
      "text/html": [
       "<div>\n",
       "<style scoped>\n",
       "    .dataframe tbody tr th:only-of-type {\n",
       "        vertical-align: middle;\n",
       "    }\n",
       "\n",
       "    .dataframe tbody tr th {\n",
       "        vertical-align: top;\n",
       "    }\n",
       "\n",
       "    .dataframe thead th {\n",
       "        text-align: right;\n",
       "    }\n",
       "</style>\n",
       "<table border=\"1\" class=\"dataframe\">\n",
       "  <thead>\n",
       "    <tr style=\"text-align: right;\">\n",
       "      <th></th>\n",
       "      <th>id</th>\n",
       "      <th>lead_time</th>\n",
       "      <th>arrival_week</th>\n",
       "      <th>duration</th>\n",
       "      <th>prev_cancel</th>\n",
       "      <th>booking_changes</th>\n",
       "      <th>waiting_period</th>\n",
       "      <th>per_Day_price</th>\n",
       "      <th>parking</th>\n",
       "      <th>special_request</th>\n",
       "      <th>segment</th>\n",
       "      <th>deposit</th>\n",
       "      <th>cust_type</th>\n",
       "      <th>is_cancelled</th>\n",
       "    </tr>\n",
       "  </thead>\n",
       "  <tbody>\n",
       "    <tr>\n",
       "      <th>0</th>\n",
       "      <td>200</td>\n",
       "      <td>245</td>\n",
       "      <td>13</td>\n",
       "      <td>5</td>\n",
       "      <td>0</td>\n",
       "      <td>0</td>\n",
       "      <td>0</td>\n",
       "      <td>78.26</td>\n",
       "      <td>0</td>\n",
       "      <td>2</td>\n",
       "      <td>Online TA</td>\n",
       "      <td>No Deposit</td>\n",
       "      <td>Transient</td>\n",
       "      <td>0</td>\n",
       "    </tr>\n",
       "    <tr>\n",
       "      <th>1</th>\n",
       "      <td>201</td>\n",
       "      <td>170</td>\n",
       "      <td>25</td>\n",
       "      <td>2</td>\n",
       "      <td>0</td>\n",
       "      <td>0</td>\n",
       "      <td>0</td>\n",
       "      <td>130.50</td>\n",
       "      <td>0</td>\n",
       "      <td>0</td>\n",
       "      <td>Online TA</td>\n",
       "      <td>No Deposit</td>\n",
       "      <td>Transient</td>\n",
       "      <td>0</td>\n",
       "    </tr>\n",
       "    <tr>\n",
       "      <th>2</th>\n",
       "      <td>202</td>\n",
       "      <td>304</td>\n",
       "      <td>45</td>\n",
       "      <td>3</td>\n",
       "      <td>0</td>\n",
       "      <td>0</td>\n",
       "      <td>0</td>\n",
       "      <td>89.00</td>\n",
       "      <td>0</td>\n",
       "      <td>0</td>\n",
       "      <td>Offline TA/TO</td>\n",
       "      <td>Non Refund</td>\n",
       "      <td>Transient</td>\n",
       "      <td>1</td>\n",
       "    </tr>\n",
       "    <tr>\n",
       "      <th>3</th>\n",
       "      <td>203</td>\n",
       "      <td>19</td>\n",
       "      <td>7</td>\n",
       "      <td>1</td>\n",
       "      <td>0</td>\n",
       "      <td>0</td>\n",
       "      <td>0</td>\n",
       "      <td>82.13</td>\n",
       "      <td>0</td>\n",
       "      <td>2</td>\n",
       "      <td>Online TA</td>\n",
       "      <td>No Deposit</td>\n",
       "      <td>Transient</td>\n",
       "      <td>0</td>\n",
       "    </tr>\n",
       "    <tr>\n",
       "      <th>4</th>\n",
       "      <td>204</td>\n",
       "      <td>214</td>\n",
       "      <td>27</td>\n",
       "      <td>4</td>\n",
       "      <td>0</td>\n",
       "      <td>0</td>\n",
       "      <td>0</td>\n",
       "      <td>89.10</td>\n",
       "      <td>0</td>\n",
       "      <td>1</td>\n",
       "      <td>Direct</td>\n",
       "      <td>No Deposit</td>\n",
       "      <td>Transient-Party</td>\n",
       "      <td>0</td>\n",
       "    </tr>\n",
       "  </tbody>\n",
       "</table>\n",
       "</div>"
      ],
      "text/plain": [
       "    id  lead_time  arrival_week  duration  prev_cancel  booking_changes  \\\n",
       "0  200        245            13         5            0                0   \n",
       "1  201        170            25         2            0                0   \n",
       "2  202        304            45         3            0                0   \n",
       "3  203         19             7         1            0                0   \n",
       "4  204        214            27         4            0                0   \n",
       "\n",
       "   waiting_period  per_Day_price  parking  special_request        segment  \\\n",
       "0               0          78.26        0                2      Online TA   \n",
       "1               0         130.50        0                0      Online TA   \n",
       "2               0          89.00        0                0  Offline TA/TO   \n",
       "3               0          82.13        0                2      Online TA   \n",
       "4               0          89.10        0                1         Direct   \n",
       "\n",
       "           deposit        cust_type  is_cancelled  \n",
       "0  No Deposit             Transient             0  \n",
       "1  No Deposit             Transient             0  \n",
       "2  Non Refund             Transient             1  \n",
       "3  No Deposit             Transient             0  \n",
       "4  No Deposit       Transient-Party             0  "
      ]
     },
     "execution_count": 148,
     "metadata": {},
     "output_type": "execute_result"
    }
   ],
   "source": [
    "data.head()"
   ]
  },
  {
   "cell_type": "code",
   "execution_count": 149,
   "metadata": {
    "colab": {},
    "colab_type": "code",
    "id": "KwZ-0ykHNNP-",
    "outputId": "31813dc0-53be-4848-e86a-60e5efb46e07"
   },
   "outputs": [
    {
     "data": {
      "text/plain": [
       "Index(['id', 'lead_time', 'arrival_week', 'duration', 'prev_cancel',\n",
       "       'booking_changes', 'waiting_period', 'per_Day_price', 'parking',\n",
       "       'special_request', 'segment', 'deposit', 'cust_type', 'is_cancelled'],\n",
       "      dtype='object')"
      ]
     },
     "execution_count": 149,
     "metadata": {},
     "output_type": "execute_result"
    }
   ],
   "source": [
    "#Explore columns\n",
    "data.columns"
   ]
  },
  {
   "cell_type": "code",
   "execution_count": 150,
   "metadata": {
    "colab": {},
    "colab_type": "code",
    "id": "ekzXg7HBNNQB",
    "outputId": "3d4d826d-09c2-44d7-fb30-d7932f90dff9"
   },
   "outputs": [
    {
     "data": {
      "text/html": [
       "<div>\n",
       "<style scoped>\n",
       "    .dataframe tbody tr th:only-of-type {\n",
       "        vertical-align: middle;\n",
       "    }\n",
       "\n",
       "    .dataframe tbody tr th {\n",
       "        vertical-align: top;\n",
       "    }\n",
       "\n",
       "    .dataframe thead th {\n",
       "        text-align: right;\n",
       "    }\n",
       "</style>\n",
       "<table border=\"1\" class=\"dataframe\">\n",
       "  <thead>\n",
       "    <tr style=\"text-align: right;\">\n",
       "      <th></th>\n",
       "      <th>id</th>\n",
       "      <th>lead_time</th>\n",
       "      <th>arrival_week</th>\n",
       "      <th>duration</th>\n",
       "      <th>prev_cancel</th>\n",
       "      <th>booking_changes</th>\n",
       "      <th>waiting_period</th>\n",
       "      <th>per_Day_price</th>\n",
       "      <th>parking</th>\n",
       "      <th>special_request</th>\n",
       "      <th>is_cancelled</th>\n",
       "    </tr>\n",
       "  </thead>\n",
       "  <tbody>\n",
       "    <tr>\n",
       "      <th>count</th>\n",
       "      <td>3000.000000</td>\n",
       "      <td>3000.0000</td>\n",
       "      <td>3000.000000</td>\n",
       "      <td>3000.000000</td>\n",
       "      <td>3000.000000</td>\n",
       "      <td>3000.000000</td>\n",
       "      <td>3000.000000</td>\n",
       "      <td>3000.000000</td>\n",
       "      <td>3000.000000</td>\n",
       "      <td>3000.000000</td>\n",
       "      <td>3000.000000</td>\n",
       "    </tr>\n",
       "    <tr>\n",
       "      <th>mean</th>\n",
       "      <td>1699.500000</td>\n",
       "      <td>110.8670</td>\n",
       "      <td>27.215333</td>\n",
       "      <td>2.187333</td>\n",
       "      <td>0.084667</td>\n",
       "      <td>0.189000</td>\n",
       "      <td>3.325000</td>\n",
       "      <td>104.660693</td>\n",
       "      <td>0.022333</td>\n",
       "      <td>0.547667</td>\n",
       "      <td>0.409667</td>\n",
       "    </tr>\n",
       "    <tr>\n",
       "      <th>std</th>\n",
       "      <td>866.169729</td>\n",
       "      <td>112.8239</td>\n",
       "      <td>13.414008</td>\n",
       "      <td>1.449692</td>\n",
       "      <td>0.392704</td>\n",
       "      <td>0.569257</td>\n",
       "      <td>20.426611</td>\n",
       "      <td>38.304952</td>\n",
       "      <td>0.147790</td>\n",
       "      <td>0.786512</td>\n",
       "      <td>0.491854</td>\n",
       "    </tr>\n",
       "    <tr>\n",
       "      <th>min</th>\n",
       "      <td>200.000000</td>\n",
       "      <td>0.0000</td>\n",
       "      <td>1.000000</td>\n",
       "      <td>0.000000</td>\n",
       "      <td>0.000000</td>\n",
       "      <td>0.000000</td>\n",
       "      <td>0.000000</td>\n",
       "      <td>0.000000</td>\n",
       "      <td>0.000000</td>\n",
       "      <td>0.000000</td>\n",
       "      <td>0.000000</td>\n",
       "    </tr>\n",
       "    <tr>\n",
       "      <th>25%</th>\n",
       "      <td>949.750000</td>\n",
       "      <td>23.0000</td>\n",
       "      <td>17.000000</td>\n",
       "      <td>1.000000</td>\n",
       "      <td>0.000000</td>\n",
       "      <td>0.000000</td>\n",
       "      <td>0.000000</td>\n",
       "      <td>79.000000</td>\n",
       "      <td>0.000000</td>\n",
       "      <td>0.000000</td>\n",
       "      <td>0.000000</td>\n",
       "    </tr>\n",
       "    <tr>\n",
       "      <th>50%</th>\n",
       "      <td>1699.500000</td>\n",
       "      <td>75.0000</td>\n",
       "      <td>28.000000</td>\n",
       "      <td>2.000000</td>\n",
       "      <td>0.000000</td>\n",
       "      <td>0.000000</td>\n",
       "      <td>0.000000</td>\n",
       "      <td>99.000000</td>\n",
       "      <td>0.000000</td>\n",
       "      <td>0.000000</td>\n",
       "      <td>0.000000</td>\n",
       "    </tr>\n",
       "    <tr>\n",
       "      <th>75%</th>\n",
       "      <td>2449.250000</td>\n",
       "      <td>166.0000</td>\n",
       "      <td>38.000000</td>\n",
       "      <td>3.000000</td>\n",
       "      <td>0.000000</td>\n",
       "      <td>0.000000</td>\n",
       "      <td>0.000000</td>\n",
       "      <td>125.000000</td>\n",
       "      <td>0.000000</td>\n",
       "      <td>1.000000</td>\n",
       "      <td>1.000000</td>\n",
       "    </tr>\n",
       "    <tr>\n",
       "      <th>max</th>\n",
       "      <td>3199.000000</td>\n",
       "      <td>629.0000</td>\n",
       "      <td>53.000000</td>\n",
       "      <td>18.000000</td>\n",
       "      <td>11.000000</td>\n",
       "      <td>13.000000</td>\n",
       "      <td>391.000000</td>\n",
       "      <td>313.670000</td>\n",
       "      <td>1.000000</td>\n",
       "      <td>5.000000</td>\n",
       "      <td>1.000000</td>\n",
       "    </tr>\n",
       "  </tbody>\n",
       "</table>\n",
       "</div>"
      ],
      "text/plain": [
       "                id  lead_time  arrival_week     duration  prev_cancel  \\\n",
       "count  3000.000000  3000.0000   3000.000000  3000.000000  3000.000000   \n",
       "mean   1699.500000   110.8670     27.215333     2.187333     0.084667   \n",
       "std     866.169729   112.8239     13.414008     1.449692     0.392704   \n",
       "min     200.000000     0.0000      1.000000     0.000000     0.000000   \n",
       "25%     949.750000    23.0000     17.000000     1.000000     0.000000   \n",
       "50%    1699.500000    75.0000     28.000000     2.000000     0.000000   \n",
       "75%    2449.250000   166.0000     38.000000     3.000000     0.000000   \n",
       "max    3199.000000   629.0000     53.000000    18.000000    11.000000   \n",
       "\n",
       "       booking_changes  waiting_period  per_Day_price      parking  \\\n",
       "count      3000.000000     3000.000000    3000.000000  3000.000000   \n",
       "mean          0.189000        3.325000     104.660693     0.022333   \n",
       "std           0.569257       20.426611      38.304952     0.147790   \n",
       "min           0.000000        0.000000       0.000000     0.000000   \n",
       "25%           0.000000        0.000000      79.000000     0.000000   \n",
       "50%           0.000000        0.000000      99.000000     0.000000   \n",
       "75%           0.000000        0.000000     125.000000     0.000000   \n",
       "max          13.000000      391.000000     313.670000     1.000000   \n",
       "\n",
       "       special_request  is_cancelled  \n",
       "count      3000.000000   3000.000000  \n",
       "mean          0.547667      0.409667  \n",
       "std           0.786512      0.491854  \n",
       "min           0.000000      0.000000  \n",
       "25%           0.000000      0.000000  \n",
       "50%           0.000000      0.000000  \n",
       "75%           1.000000      1.000000  \n",
       "max           5.000000      1.000000  "
      ]
     },
     "execution_count": 150,
     "metadata": {},
     "output_type": "execute_result"
    }
   ],
   "source": [
    "#Description\n",
    "data.describe()"
   ]
  },
  {
   "cell_type": "markdown",
   "metadata": {
    "colab_type": "text",
    "id": "776AnflSNNQD"
   },
   "source": [
    "## Visualization, Modeling, Machine Learning\n",
    "\n",
    "Build a classification model and to determine whether a customer will cancel a booking. Please explain the findings effectively to technical and non-technical audiences using comments and visualizations, if appropriate.\n",
    "- **Build an optimized model that effectively solves the business problem.**\n",
    "- **The model's performance will be evaluated on the basis of accuracy.**\n",
    "- **Read the test.csv file and prepare features for testing.**"
   ]
  },
  {
   "cell_type": "code",
   "execution_count": 151,
   "metadata": {
    "colab": {},
    "colab_type": "code",
    "id": "cwO5c1ABNNQE",
    "outputId": "6246cf4b-42f0-4805-c1c9-8b3086af2f1b"
   },
   "outputs": [
    {
     "name": "stdout",
     "output_type": "stream",
     "text": [
      "1000\n"
     ]
    }
   ],
   "source": [
    "#Loading Test data\n",
    "test_data=pd.read_csv('test.csv')\n",
    "test_data.head()\n",
    "print(len(test_data))"
   ]
  },
  {
   "cell_type": "code",
   "execution_count": null,
   "metadata": {
    "colab": {},
    "colab_type": "code",
    "id": "mNMb2ZGCNNQT"
   },
   "outputs": [],
   "source": []
  },
  {
   "cell_type": "code",
   "execution_count": 160,
   "metadata": {},
   "outputs": [],
   "source": [
    "# procedure:\n",
    "#     1. finalize basic back up submission  ----> done\n",
    "#     2. find points of interests for 2-3 column (in order words, describe the most\n",
    "#        important features of the model to management)\n",
    "#     3. start seeing ranges, other manipulations of dataframes you can make\n",
    "#    4. look up RandomForestRegressor and how it works"
   ]
  },
  {
   "cell_type": "code",
   "execution_count": 161,
   "metadata": {
    "colab": {},
    "colab_type": "code",
    "id": "6UCGui6nNNQV"
   },
   "outputs": [
    {
     "name": "stdout",
     "output_type": "stream",
     "text": [
      "0      0\n",
      "1      0\n",
      "2      1\n",
      "3      0\n",
      "4      0\n",
      "      ..\n",
      "994    1\n",
      "995    0\n",
      "996    0\n",
      "997    0\n",
      "998    0\n",
      "Name: is_cancelled, Length: 999, dtype: int64\n"
     ]
    }
   ],
   "source": [
    "########### ATTEMPT AT PROCEDURE # 1  \n",
    "# Read the data\n",
    "\n",
    "\n",
    "# pull data into target (y) and predictors (X)\n",
    "train_y = data[0:999].is_cancelled\n",
    "print(train_y)"
   ]
  },
  {
   "cell_type": "code",
   "execution_count": 162,
   "metadata": {
    "colab": {},
    "colab_type": "code",
    "id": "C2FpSVKqNNQa"
   },
   "outputs": [
    {
     "data": {
      "text/html": [
       "<div>\n",
       "<style scoped>\n",
       "    .dataframe tbody tr th:only-of-type {\n",
       "        vertical-align: middle;\n",
       "    }\n",
       "\n",
       "    .dataframe tbody tr th {\n",
       "        vertical-align: top;\n",
       "    }\n",
       "\n",
       "    .dataframe thead th {\n",
       "        text-align: right;\n",
       "    }\n",
       "</style>\n",
       "<table border=\"1\" class=\"dataframe\">\n",
       "  <thead>\n",
       "    <tr style=\"text-align: right;\">\n",
       "      <th></th>\n",
       "      <th>lead_time</th>\n",
       "      <th>arrival_week</th>\n",
       "      <th>duration</th>\n",
       "      <th>prev_cancel</th>\n",
       "    </tr>\n",
       "  </thead>\n",
       "  <tbody>\n",
       "    <tr>\n",
       "      <th>0</th>\n",
       "      <td>245</td>\n",
       "      <td>13</td>\n",
       "      <td>5</td>\n",
       "      <td>0</td>\n",
       "    </tr>\n",
       "    <tr>\n",
       "      <th>1</th>\n",
       "      <td>170</td>\n",
       "      <td>25</td>\n",
       "      <td>2</td>\n",
       "      <td>0</td>\n",
       "    </tr>\n",
       "    <tr>\n",
       "      <th>2</th>\n",
       "      <td>304</td>\n",
       "      <td>45</td>\n",
       "      <td>3</td>\n",
       "      <td>0</td>\n",
       "    </tr>\n",
       "    <tr>\n",
       "      <th>3</th>\n",
       "      <td>19</td>\n",
       "      <td>7</td>\n",
       "      <td>1</td>\n",
       "      <td>0</td>\n",
       "    </tr>\n",
       "    <tr>\n",
       "      <th>4</th>\n",
       "      <td>214</td>\n",
       "      <td>27</td>\n",
       "      <td>4</td>\n",
       "      <td>0</td>\n",
       "    </tr>\n",
       "  </tbody>\n",
       "</table>\n",
       "</div>"
      ],
      "text/plain": [
       "   lead_time  arrival_week  duration  prev_cancel\n",
       "0        245            13         5            0\n",
       "1        170            25         2            0\n",
       "2        304            45         3            0\n",
       "3         19             7         1            0\n",
       "4        214            27         4            0"
      ]
     },
     "execution_count": 162,
     "metadata": {},
     "output_type": "execute_result"
    }
   ],
   "source": [
    "predictor_cols = ['lead_time', 'arrival_week', 'duration', 'prev_cancel']\n",
    "\n",
    "# Create training predictors data\n",
    "my_formatted_data = data[0:999]\n",
    "train_X = my_formatted_data[predictor_cols]\n",
    "train_X.head()"
   ]
  },
  {
   "cell_type": "code",
   "execution_count": 165,
   "metadata": {
    "colab": {},
    "colab_type": "code",
    "id": "C2FpSVKqNNQa"
   },
   "outputs": [
    {
     "name": "stdout",
     "output_type": "stream",
     "text": [
      "999\n"
     ]
    },
    {
     "name": "stderr",
     "output_type": "stream",
     "text": [
      "/opt/conda/lib/python3.7/site-packages/sklearn/ensemble/forest.py:245: FutureWarning: The default value of n_estimators will change from 10 in version 0.20 to 100 in 0.22.\n",
      "  \"10 in version 0.20 to 100 in 0.22.\", FutureWarning)\n"
     ]
    }
   ],
   "source": [
    "import sklearn\n",
    "from sklearn.ensemble import RandomForestRegressor\n",
    "\n",
    "my_model = RandomForestRegressor()\n",
    "my_model.fit(train_X, train_y)\n",
    "# Treat the test data in the same way as training data. In this case, pull same columns.\n",
    "test_X = my_formatted_data[predictor_cols]\n",
    "# Use the model to make predictions\n",
    "predicted_cancellations = my_model.predict(test_X)\n",
    "# We will look at the predicted prices to ensure we have something sensible.\n",
    "print(len(predicted_cancellations))"
   ]
  },
  {
   "cell_type": "code",
   "execution_count": 166,
   "metadata": {
    "colab": {},
    "colab_type": "code",
    "id": "C2FpSVKqNNQa"
   },
   "outputs": [
    {
     "name": "stdout",
     "output_type": "stream",
     "text": [
      "       Id  is_cancelled\n",
      "0    3200           0.1\n",
      "1    3201           0.5\n",
      "2    3202           1.0\n",
      "3    3203           0.3\n",
      "4    3204           0.1\n",
      "..    ...           ...\n",
      "994  4194           0.8\n",
      "995  4195           0.4\n",
      "996  4196           0.0\n",
      "997  4197           0.0\n",
      "998  4198           0.0\n",
      "\n",
      "[999 rows x 2 columns]\n"
     ]
    }
   ],
   "source": [
    "my_sample_submission = pd.DataFrame({'Id': test_data[0:999].id, 'is_cancelled': predicted_cancellations})\n",
    "print(my_sample_submission)"
   ]
  },
  {
   "cell_type": "code",
   "execution_count": 167,
   "metadata": {},
   "outputs": [
    {
     "name": "stdout",
     "output_type": "stream",
     "text": [
      "end of attempt at procedure #1 (it worked! probably turn this in due to time\n"
     ]
    }
   ],
   "source": [
    "############# end of attempt at procedure #1 (it worked! probably turn this in due to time)\n",
    "print(\"end of attempt at procedure #1 (it worked! probably turn this in due to time\")"
   ]
  },
  {
   "cell_type": "markdown",
   "metadata": {
    "colab_type": "text",
    "id": "IqxVwWBwNNQS"
   },
   "source": [
    "\n",
    "**Describe the the most important features of the model to management.**\n",
    "\n",
    "> #### Task:\n",
    "- **Visualize the top 10 features and their feature importance.**\n"
   ]
  },
  {
   "cell_type": "code",
   "execution_count": 152,
   "metadata": {
    "colab": {},
    "colab_type": "code",
    "id": "hAmSb7AfNNQI"
   },
   "outputs": [],
   "source": [
    "############ATTEMPT AT PROCEDURE # 2\n",
    "# For reference\n",
    "# 'id', 'lead_time', 'arrival_week', 'duration', 'prev_cancel',\n",
    "#        'booking_changes', 'waiting_period', 'per_Day_price', 'parking',\n",
    "#        'special_request', 'segment', 'deposit', 'cust_type', 'is_cancelled'],\n",
    "#       dtype='object'\n",
    "# id\tUnique identifier for each booking.\n",
    "# lead_time\tTime between booking date and reservation date (in days)\n",
    "# arrival_week\tWeek number of the arrival date.\n",
    "# duration\tBooking duration (in Days)\n",
    "# prev_cancel\tNumber of previous bookings that were cancelled by the customer prior to the current booking.\n",
    "# booking_changes\tNumber of changes/amendments made to the booking from the moment the booking was entered on the PMS until the moment of check-in or cancellation.\n",
    "# waiting_period\tWaiting period for booking confirmation (in Days)\n",
    "# per_Day_price\tPer night booking price (in US $).\n",
    "# parking\tNumber of car parking spaces required by the customer.\n",
    "# special_request\tNumber of special requests made by the customer.\n",
    "# segment\tMarket segment designation. In categories, “TA” means “Travel Agents” and “TO” means “Tour Operators”.\n",
    "# deposit\tWhether the customer made a deposit to guarantee the booking.\n",
    "# cust_type\tType of booking, assuming one of four categories.\n",
    "# is_cancelled\tValue indicating if the booking was cancelled (1) or not (0).      \n",
    "      "
   ]
  },
  {
   "cell_type": "code",
   "execution_count": 153,
   "metadata": {},
   "outputs": [],
   "source": [
    "#########ATTEMPT AT #3 (did this one before finishing ATTEMPT #2)\n",
    "#importing plot entities\n",
    "\n",
    "import seaborn as sbn\n",
    "import matplotlib.pyplot as plt"
   ]
  },
  {
   "cell_type": "code",
   "execution_count": 154,
   "metadata": {},
   "outputs": [
    {
     "data": {
      "image/png": "[encoded data removed]",
      "text/plain": [
       "<Figure size 432x288 with 1 Axes>"
      ]
     },
     "metadata": {
      "needs_background": "light"
     },
     "output_type": "display_data"
    }
   ],
   "source": [
    "lead_times = data['lead_time']\n",
    "fig = plt.figure()\n",
    "ax = lead_times.plot(kind=\"bar\", alpha=0.7)\n"
   ]
  },
  {
   "cell_type": "code",
   "execution_count": 155,
   "metadata": {
    "colab": {},
    "colab_type": "code",
    "id": "hAmSb7AfNNQI"
   },
   "outputs": [],
   "source": [
    "# columns are \n",
    "# id:\n",
    "#     importance: None\n",
    "# lead_time: the time the booking is requested to the time the booking has started to take place\n",
    "#     importance: low-high (possibly high if people tend to cancel if the booking seems too long\n",
    "#     importance estimation: 50-50\n",
    "#     values of consideration: look at longer times vs. lower times. start with analyzing this by itself and\n",
    "#                           then move at analyzing this with arrival week (in days as well)"
   ]
  },
  {
   "cell_type": "code",
   "execution_count": 156,
   "metadata": {},
   "outputs": [
    {
     "data": {
      "text/plain": [
       "<matplotlib.axes._subplots.AxesSubplot at 0x7efc9eb507d0>"
      ]
     },
     "execution_count": 156,
     "metadata": {},
     "output_type": "execute_result"
    },
    {
     "data": {
      "image/png": "[encoded data removed]",
      "text/plain": [
       "<Figure size 432x288 with 1 Axes>"
      ]
     },
     "metadata": {
      "needs_background": "light"
     },
     "output_type": "display_data"
    }
   ],
   "source": [
    "#looking at column lead time range\n",
    "lead_times.plot(kind='hist', grid=True)"
   ]
  },
  {
   "cell_type": "code",
   "execution_count": 157,
   "metadata": {},
   "outputs": [
    {
     "data": {
      "text/plain": [
       "(array([468., 232., 162., 181., 137., 135., 132.,  99., 102., 112.]),\n",
       " array([  0.,  10.,  20.,  30.,  40.,  50.,  60.,  70.,  80.,  90., 100.]),\n",
       " <a list of 10 Patch objects>)"
      ]
     },
     "execution_count": 157,
     "metadata": {},
     "output_type": "execute_result"
    },
    {
     "data": {
      "image/png": "[encoded data removed]",
      "text/plain": [
       "<Figure size 432x288 with 1 Axes>"
      ]
     },
     "metadata": {
      "needs_background": "light"
     },
     "output_type": "display_data"
    }
   ],
   "source": [
    "# through using plt\n",
    "plt.hist(lead_times,range=[0, 100], facecolor='gray', align='mid')"
   ]
  },
  {
   "cell_type": "code",
   "execution_count": 158,
   "metadata": {},
   "outputs": [
    {
     "data": {
      "image/png": "[encoded data removed]",
      "text/plain": [
       "<Figure size 432x288 with 1 Axes>"
      ]
     },
     "metadata": {
      "needs_background": "light"
     },
     "output_type": "display_data"
    }
   ],
   "source": [
    "# now looking at their value in comparison to the result\n",
    "data.plot(kind='bar',x='lead_time',y='is_cancelled')\n",
    "plt.show()"
   ]
  },
  {
   "cell_type": "code",
   "execution_count": 159,
   "metadata": {
    "colab": {},
    "colab_type": "code",
    "id": "hAmSb7AfNNQI"
   },
   "outputs": [],
   "source": [
    "#     measurement units: days\n",
    "# arrival_week: the time they are supposed to arrive\n",
    "#     questions to answer before looking: q1: is it in reference to the time they reeserved or is it week within the year\n",
    "#     importance: low-high ( very unpredictable depending on questions being answered)\n",
    "#     importance estimation:\n",
    "#     values of consideration: longer arrival \n",
    "#     measurement units: weeks, but change to days when inferencing\n",
    "# duration: Booking duration (in Days)\n",
    "#     importance:medium\n",
    "#     importance estimation: maybe in the short trips, people are likely to leave because they purchased on a whim\n",
    "#     values of consideration: 1-10 days ---> DISCOVER SPECIFIC NUMBER LATER\n",
    "# prev_cancel: Number of previous bookings that were cancelled by the customer prior to the current booking.\n",
    "#     importance: very high\n",
    "#     importance estimation: the higher the number, the more likely\n",
    "#     values of consideration: maybe disregard 1 or 2 but if they develop a pattern, well it is extremely likely\n",
    "# booking_changes: Number of changes/amendments made to the booking from the moment the booking was entered on the PMS until the moment of check-in or cancellation.\n",
    "#     importance: high\n",
    "#     importance estimation: the higher the value, the more investment they will make in completing the booking\n",
    "#     values of consideration:\n",
    "# waiting_period: Waiting period for booking confirmation (in Days)\n",
    "#     importance: high\n",
    "#     importance estimation: the longer the days it is that they pay money, the more likely they will realize they don't want to spend monay\n",
    "#     values of consideration: maybe don't consider \n",
    "# per_Day_price: Per night booking price (in US $).\n",
    "#     importance: moderate\n",
    "#     importance estimation: maybe the costlier, the more likely?\n",
    "#     values of consideration: 100 ------> depending on dataset\n",
    "# parking: Number of car parking spaces required by the customer.\n",
    "#     importance:\n",
    "#     importance estimation:\n",
    "#     values of consideration:\n",
    "# special_request: Number of special requests made by the customer.\n",
    "#     importance:\n",
    "#     importance estimation:\n",
    "#     values of consideration:\n",
    "# segment: Market segment designation. In categories, “TA” means “Travel Agents” and “TO” means “Tour Operators”\n",
    "#     importance:\n",
    "#     importance estimation:\n",
    "#     values of consideration:\n",
    "# deposit: Whether the customer made a deposit to guarantee the booking.\n",
    "#     importance:\n",
    "#     importance estimation:\n",
    "#     values of consideration:\n",
    "# cast_type: Type of booking, assuming one of four categories.\n",
    "#     importance:\n",
    "#     importance estimation:\n",
    "#     values of consideration:\n",
    "# is_cancelled: Value indicating if the booking was cancelled (1) or not (0).\n",
    "\n",
    "\n",
    "#lead_time:"
   ]
  },
  {
   "cell_type": "code",
   "execution_count": null,
   "metadata": {},
   "outputs": [],
   "source": [
    "######END OF ATTEMPT #2 AND ATTEMPT #3 (SINCE THEY GO HAND IN HAND)    "
   ]
  },
  {
   "cell_type": "markdown",
   "metadata": {
    "colab_type": "text",
    "id": "Cqv9hOnfNNQZ"
   },
   "source": [
    "> #### Task:\n",
    "- **Submit the predictions on the test dataset using your optimized model** <br/>\n",
    "    For each record in the test set (`test.csv`), you must predict whether a customer will cancel his booking or not. You should submit a CSV file with a header row and one row per test entry. \n",
    "\n",
    "The file (`submissions.csv`) should have exactly 2 columns:\n",
    "   - **id**\n",
    "   - **is_cancelled**\n",
    "   "
   ]
  },
  {
   "cell_type": "code",
   "execution_count": null,
   "metadata": {
    "colab": {},
    "colab_type": "code",
    "id": "Y-ZgcN1CNNQd"
   },
   "outputs": [],
   "source": [
    "#SUBMITTING WHAT I HAVE SO I CAN FOCUS ON LEARNING RANDOMFORESTREGRESSOR"
   ]
  },
  {
   "cell_type": "code",
   "execution_count": null,
   "metadata": {
    "colab": {},
    "colab_type": "code",
    "id": "7K2uCUWhNNQj"
   },
   "outputs": [],
   "source": [
    "#Submission\n",
    "\n",
    "#submission_df.to_csv('submissions.csv',index=False)"
   ]
  },
  {
   "cell_type": "code",
   "execution_count": null,
   "metadata": {
    "colab": {},
    "colab_type": "code",
    "id": "C2FpSVKqNNQa"
   },
   "outputs": [],
   "source": [
    "my_sample_submission.to_csv('submissions.csv',index=False)\n"
   ]
  }
 ],
 "metadata": {
  "colab": {
   "name": "Questions.ipynb",
   "provenance": []
  },
  "kernelspec": {
   "display_name": "Python 3",
   "language": "python",
   "name": "python3"
  },
  "language_info": {
   "codemirror_mode": {
    "name": "ipython",
    "version": 3
   },
   "file_extension": ".py",
   "mimetype": "text/x-python",
   "name": "python",
   "nbconvert_exporter": "python",
   "pygments_lexer": "ipython3",
   "version": "3.7.8"
  }
 },
 "nbformat": 4,
 "nbformat_minor": 4
}
